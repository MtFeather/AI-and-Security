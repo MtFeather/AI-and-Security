{
  "nbformat": 4,
  "nbformat_minor": 0,
  "metadata": {
    "colab": {
      "name": "Test_GPU.ipynb",
      "version": "0.3.2",
      "provenance": [],
      "collapsed_sections": [],
      "include_colab_link": true
    },
    "kernelspec": {
      "name": "python3",
      "display_name": "Python 3"
    },
    "accelerator": "GPU"
  },
  "cells": [
    {
      "cell_type": "markdown",
      "metadata": {
        "id": "view-in-github",
        "colab_type": "text"
      },
      "source": [
        "<a href=\"https://colab.research.google.com/github/MtFeather/AI-and-Security/blob/master/tensorflow/Test_GPU.ipynb\" target=\"_parent\"><img src=\"https://colab.research.google.com/assets/colab-badge.svg\" alt=\"Open In Colab\"/></a>"
      ]
    },
    {
      "metadata": {
        "id": "4nhs9PYGkh6V",
        "colab_type": "text"
      },
      "cell_type": "markdown",
      "source": [
        "#  TensorFlow GPU與CPU執行效能比較"
      ]
    },
    {
      "metadata": {
        "id": "5UPCWDJ8kmux",
        "colab_type": "text"
      },
      "cell_type": "markdown",
      "source": [
        "建立performanceTest函數，以TensorFlow執行矩陣運算，測試不同的矩陣大小，運用GPU與CPU執行效能"
      ]
    },
    {
      "metadata": {
        "id": "VDpvlwAPk77_",
        "colab_type": "text"
      },
      "cell_type": "markdown",
      "source": [
        "### 先匯入模組"
      ]
    },
    {
      "metadata": {
        "id": "OA3PKS3dimgs",
        "colab_type": "code",
        "colab": {}
      },
      "cell_type": "code",
      "source": [
        "import tensorflow as tf \n",
        "import time"
      ],
      "execution_count": 0,
      "outputs": []
    },
    {
      "metadata": {
        "id": "ohCZ0F_ulENs",
        "colab_type": "text"
      },
      "cell_type": "markdown",
      "source": [
        "#### 定義performanceTest函數，傳入下列參數\n",
        "  - device_name:設定要使用GPU或CPU進行運算\n",
        "  - size:設定要建立矩陣的大小"
      ]
    },
    {
      "metadata": {
        "id": "NE8OMC03iuX2",
        "colab_type": "code",
        "colab": {}
      },
      "cell_type": "code",
      "source": [
        "def performanceTest(device_name,size):\n",
        "    with tf.device(device_name):                           # 使用 tf.device 將一些操作固定到 CPU 和 GPU 上\n",
        "        W = tf.random_normal([size, size],name='W')        # 從正態分佈中輸出隨機值\n",
        "        X = tf.random_normal([size, size],name='X')        # 從正態分佈中輸出隨機值\n",
        "        mul = tf.matmul(W, X,name='mul')                   # 將W,X兩個矩陣相乘\n",
        "        sum_result = tf.reduce_sum(mul,name='sum')         # 將tensor加總起來 \n",
        "\n",
        "    startTime = time.time()                                # 取得現在時間(1970紀元後經過的浮點秒數)\n",
        "    tfconfig=tf.ConfigProto(log_device_placement=True)     # 找出您的指令和張量被分配到哪個設備\n",
        "    with tf.Session(config=tfconfig) as sess:\n",
        "        result = sess.run(sum_result)\n",
        "    takeTimes=time.time()  - startTime                     # 現在秒數減掉開始秒數取得總時間\n",
        "    print(device_name,\" size=\",size,\"Time:\",takeTimes )\n",
        "    return takeTimes                                       # 回傳時間"
      ],
      "execution_count": 0,
      "outputs": []
    },
    {
      "metadata": {
        "id": "AzKUXpw0sEge",
        "colab_type": "text"
      },
      "cell_type": "markdown",
      "source": [
        "### 以for迴圈執行performanceTest函數"
      ]
    },
    {
      "metadata": {
        "id": "HBzW5__XsRpo",
        "colab_type": "text"
      },
      "cell_type": "markdown",
      "source": [
        "以for迴圈分別以GPU與CPU執行不同的矩陣大小(500x500、1000x1000、....5000x5000)，測試執行效能\n",
        "  - gpu_set: 儲存gpu秒數之陣列\n",
        "  - cpu_set: 儲存cpu秒數之陣列\n",
        "  - i_set: 執行次數"
      ]
    },
    {
      "metadata": {
        "id": "7BYEsCwdsGlL",
        "colab_type": "code",
        "colab": {
          "base_uri": "https://localhost:8080/",
          "height": 623
        },
        "outputId": "bef9153c-66aa-4406-d3d3-5274cf343eff"
      },
      "cell_type": "code",
      "source": [
        "gpu_set=[];cpu_set=[];i_set=[]\n",
        "for i in range(0,5001,500):\n",
        "    g=performanceTest(\"/gpu:0\",i)\n",
        "    c=performanceTest(\"/cpu:0\",i)\n",
        "    gpu_set.append(g);cpu_set.append(c);i_set.append(i)\n",
        "    print(\"--\")"
      ],
      "execution_count": 15,
      "outputs": [
        {
          "output_type": "stream",
          "text": [
            "/gpu:0  size= 0 Time: 0.019131898880004883\n",
            "/cpu:0  size= 0 Time: 0.015375614166259766\n",
            "--\n",
            "/gpu:0  size= 500 Time: 0.022574901580810547\n",
            "/cpu:0  size= 500 Time: 0.04163789749145508\n",
            "--\n",
            "/gpu:0  size= 1000 Time: 0.018708229064941406\n",
            "/cpu:0  size= 1000 Time: 0.10360908508300781\n",
            "--\n",
            "/gpu:0  size= 1500 Time: 0.023761749267578125\n",
            "/cpu:0  size= 1500 Time: 0.22504639625549316\n",
            "--\n",
            "/gpu:0  size= 2000 Time: 0.04615592956542969\n",
            "/cpu:0  size= 2000 Time: 0.3682131767272949\n",
            "--\n",
            "/gpu:0  size= 2500 Time: 0.04183602333068848\n",
            "/cpu:0  size= 2500 Time: 0.7162916660308838\n",
            "--\n",
            "/gpu:0  size= 3000 Time: 0.054409027099609375\n",
            "/cpu:0  size= 3000 Time: 1.1101202964782715\n",
            "--\n",
            "/gpu:0  size= 3500 Time: 0.06661868095397949\n",
            "/cpu:0  size= 3500 Time: 1.7346398830413818\n",
            "--\n",
            "/gpu:0  size= 4000 Time: 0.0965726375579834\n",
            "/cpu:0  size= 4000 Time: 2.4203429222106934\n",
            "--\n",
            "/gpu:0  size= 4500 Time: 0.12030148506164551\n",
            "/cpu:0  size= 4500 Time: 3.4000797271728516\n",
            "--\n",
            "/gpu:0  size= 5000 Time: 0.15374135971069336\n",
            "/cpu:0  size= 5000 Time: 4.5155181884765625\n",
            "--\n"
          ],
          "name": "stdout"
        }
      ]
    },
    {
      "metadata": {
        "id": "uOrTlmlssbp6",
        "colab_type": "text"
      },
      "cell_type": "markdown",
      "source": [
        "### 將執行結果以圖形顯示 "
      ]
    },
    {
      "metadata": {
        "id": "sQkWimR2sg_h",
        "colab_type": "code",
        "colab": {
          "base_uri": "https://localhost:8080/",
          "height": 283
        },
        "outputId": "8a981399-359e-4389-afb7-a6823694af05"
      },
      "cell_type": "code",
      "source": [
        "%matplotlib inline\n",
        "import matplotlib.pyplot as plt            # 匯入模組\n",
        "fig = plt.gcf()                            # 得到當前的 figure\n",
        "fig.set_size_inches(6,4)                   # 設定圖示大小 \n",
        "plt.plot(i_set, gpu_set, label = 'gpu')    # 將gpu數值填入\n",
        "plt.plot(i_set, cpu_set, label = 'cpu')    # 將cpu數值填入\n",
        "plt.legend()                               # 在軸上放置圖例            "
      ],
      "execution_count": 18,
      "outputs": [
        {
          "output_type": "execute_result",
          "data": {
            "text/plain": [
              "<matplotlib.legend.Legend at 0x7f438123d3c8>"
            ]
          },
          "metadata": {
            "tags": []
          },
          "execution_count": 18
        },
        {
          "output_type": "display_data",
          "data": {
            "image/png": "[encoded data removed]",
            "text/plain": [
              "<matplotlib.figure.Figure at 0x7f434016e080>"
            ]
          },
          "metadata": {
            "tags": []
          }
        }
      ]
    },
    {
      "metadata": {
        "id": "KXCtvFYvuruK",
        "colab_type": "text"
      },
      "cell_type": "markdown",
      "source": [
        "上圖X軸是矩陣大小，Y軸是執行時間，矩陣越大，CPU與 GPU的差距越大。也就是說，矩陣越大，越能發揮使用GPU的效能"
      ]
    }
  ]
}